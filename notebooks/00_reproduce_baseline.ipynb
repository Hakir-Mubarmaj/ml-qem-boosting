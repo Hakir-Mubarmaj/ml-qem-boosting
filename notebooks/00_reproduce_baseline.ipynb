{
  "cells": [
    {
      "cell_type": "markdown",
      "metadata": {},
      "source": [
        "# Reproduce Baseline\n\nThis notebook shows how to run and reproduce the baseline experiments (RF, OLS, MLP)."
      ]
    },
    {
      "cell_type": "code",
      "metadata": {},
      "source": [
        "from src.experiments.run_baseline import run_baselines\nprint('Run run_baseline.py from shell or call run_baselines() programmatically')"
      ],
      "outputs": [],
      "execution_count": null
    },
    {
      "cell_type": "markdown",
      "metadata": {},
      "source": [
        "**Usage (shell):**\n```\npython src/experiments/run_baseline.py --in data/features/features_k3.parquet --out results/baseline_report.json\n```"
      ]
    }
  ],
  "metadata": {
    "kernelspec": {
      "name": "python3",
      "display_name": "Python 3"
    },
    "language_info": {
      "name": "python"
    }
  },
  "nbformat": 4,
  "nbformat_minor": 5
}