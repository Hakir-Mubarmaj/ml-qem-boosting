{
  "cells": [
    {
      "cell_type": "markdown",
      "metadata": {},
      "source": [
        "# Hardware Results Visualization\n\nGuidance and example code to visualize hardware run results (counts, expectation drift, comparisons)."
      ]
    },
    {
      "cell_type": "code",
      "metadata": {},
      "source": [
        "from src.data.make_dataset import convert_qiskit_dir\nprint('Use convert_qiskit_dir() to convert Qiskit JSONs to pipeline JSONL, then prepare parquets and run experiments')"
      ],
      "outputs": [],
      "execution_count": null
    }
  ],
  "metadata": {
    "kernelspec": {
      "name": "python3",
      "display_name": "Python 3"
    },
    "language_info": {
      "name": "python"
    }
  },
  "nbformat": 4,
  "nbformat_minor": 5
}