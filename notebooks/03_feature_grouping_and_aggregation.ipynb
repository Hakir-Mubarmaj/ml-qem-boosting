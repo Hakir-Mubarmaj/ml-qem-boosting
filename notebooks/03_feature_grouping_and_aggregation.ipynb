{
  "cells": [
    {
      "cell_type": "markdown",
      "metadata": {},
      "source": [
        "# Feature Grouping & Aggregation\n\nDemonstrate grouping strategies and aggregating per-group models."
      ]
    },
    {
      "cell_type": "code",
      "metadata": {},
      "source": [
        "from src.experiments.run_group_ensemble import run_group_ensemble\n# expects a features parquet; for demo you can prepare one via prepare_parquet.py\nprint('Use run_group_ensemble.py from shell or call run_group_ensemble() with a features parquet file')"
      ],
      "outputs": [],
      "execution_count": null
    }
  ],
  "metadata": {
    "kernelspec": {
      "name": "python3",
      "display_name": "Python 3"
    },
    "language_info": {
      "name": "python"
    }
  },
  "nbformat": 4,
  "nbformat_minor": 5
}