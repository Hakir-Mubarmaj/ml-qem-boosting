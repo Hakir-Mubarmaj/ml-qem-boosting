{
  "cells": [
    {
      "cell_type": "markdown",
      "metadata": {},
      "source": [
        "# Feature Engineering Exploration\n\nExplore feature families and inspect resulting feature vectors."
      ]
    },
    {
      "cell_type": "code",
      "metadata": {},
      "source": [
        "from src.data.feature_encoders import FeatureEncoder\nfrom src.data.make_dataset import generate_toy_jsonl\n\n# generate toy data and encode\npath='data/raw/notebook_toy.jsonl'\ngenerate_toy_jsonl(path, n_samples=50)\n# load\nexamples=[]\nwith open(path) as f:\n    for line in f:\n        examples.append(__import__('json').loads(line))\nfe = FeatureEncoder(families=None, pca_components=2)\ndf = fe.fit_transform(examples)\nprint('Encoded features shape:', df.shape)\ndf.head()"
      ],
      "outputs": [],
      "execution_count": null
    }
  ],
  "metadata": {
    "kernelspec": {
      "name": "python3",
      "display_name": "Python 3"
    },
    "language_info": {
      "name": "python"
    }
  },
  "nbformat": 4,
  "nbformat_minor": 5
}