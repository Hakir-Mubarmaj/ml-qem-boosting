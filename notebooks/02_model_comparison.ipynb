{
  "cells": [
    {
      "cell_type": "markdown",
      "metadata": {},
      "source": [
        "# Model Comparison\n\nTrain small models (RF, XGB, LGBM, CatBoost) on a toy dataset and compare metrics."
      ]
    },
    {
      "cell_type": "code",
      "metadata": {},
      "source": [
        "from src.experiments.run_feature_sweep import run_sweep\nfrom src.data.make_dataset import generate_toy_jsonl\n\n# prepare toy dataset\nraw='data/raw/toy_compare.jsonl'\ngenerate_toy_jsonl(raw, n_samples=150)\n# run a tiny sweep (this calls training code)\nres = run_sweep([__import__('json').loads(line) for line in open(raw)], out_dir='results/notebook_compare', models=['rf','xgb'], pca_components=0, tune=False, trials=1)\nprint(res.head())"
      ],
      "outputs": [],
      "execution_count": null
    }
  ],
  "metadata": {
    "kernelspec": {
      "name": "python3",
      "display_name": "Python 3"
    },
    "language_info": {
      "name": "python"
    }
  },
  "nbformat": 4,
  "nbformat_minor": 5
}